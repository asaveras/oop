{
  "nbformat": 4,
  "nbformat_minor": 0,
  "metadata": {
    "colab": {
      "name": "HW1_Rumyantseva.ipynb",
      "provenance": [],
      "collapsed_sections": []
    },
    "kernelspec": {
      "name": "python3",
      "display_name": "Python 3"
    }
  },
  "cells": [
    {
      "cell_type": "markdown",
      "metadata": {
        "id": "wn8ISNFzW_te"
      },
      "source": [
        "## HW1 OOP Rumyantseva"
      ]
    },
    {
      "cell_type": "code",
      "source": [
        "import os\n",
        "import csv"
      ],
      "metadata": {
        "id": "AvVtV9XrLLFi"
      },
      "execution_count": 12,
      "outputs": []
    },
    {
      "cell_type": "code",
      "source": [
        "csv_filename = 'coursera_week3_cars.csv'"
      ],
      "metadata": {
        "id": "wMrCjXyztU_X"
      },
      "execution_count": 13,
      "outputs": []
    },
    {
      "cell_type": "code",
      "source": [
        "!head coursera_week3_cars.csv"
      ],
      "metadata": {
        "colab": {
          "base_uri": "https://localhost:8080/"
        },
        "id": "ZbxfinDhtcrD",
        "outputId": "40e3b2ca-3f0b-4025-bd76-4ed21eb4a5f6"
      },
      "execution_count": 15,
      "outputs": [
        {
          "output_type": "stream",
          "name": "stdout",
          "text": [
            "car_type;brand;passenger_seats_count;photo_file_name;body_whl;carrying;extra\n",
            "car;Nissan xTtrail;4;f1.jpeg;;2.5;\n",
            "truck;Man;;f2.png;8x3x2.5;20;\n",
            "truck;Man;;f2.png;;20;\n",
            "car;Mazda 6;4;f3.jpeg;;2.5;\n",
            ";;;\n",
            "spec_machine;Hitachi;;f4;;1.2;Легкая техника для уборки снега\n",
            "\n"
          ]
        }
      ]
    },
    {
      "cell_type": "code",
      "source": [
        "cars = ('car', 'truck', 'spec_machine')\n",
        "photo_ext = ('.jpg', '.jpeg', '.png', '.gif')"
      ],
      "metadata": {
        "id": "oavRJvQQtkVG"
      },
      "execution_count": 17,
      "outputs": []
    },
    {
      "cell_type": "code",
      "source": [
        "#car_type «car», «truck», «spec_machine».\n",
        "#photo_file_name, «.jpg», «.jpeg», «.png», «.gif»\n",
        "#brand, марка производителя машины\n",
        "#carrying, грузоподъемность\n",
        "\n",
        "class CarBase:\n",
        "    def __init__(self, car_type, brand, photo_file_name, carrying):\n",
        "      self.car_type = car_type\n",
        "      if self.car_type not in cars:\n",
        "        raise ValueError('Тип объекта должен быть car/truck/spec_machine.')\n",
        "      self.photo_file_name = photo_file_name\n",
        "      if not self.photo_file_name.endswith(photo_ext):\n",
        "        raise ValueError('Неправильный формат фото.')\n",
        "      self.brand = brand\n",
        "      self.carrying = carrying\n",
        "\n",
        " \n",
        "    def get_photo_file_ext(self):\n",
        "      self.base, self.ext = os.path.splitext(self.photo_file_name)\n",
        "      return self.ext"
      ],
      "metadata": {
        "id": "UwaqyCaHLCOw"
      },
      "execution_count": 18,
      "outputs": []
    },
    {
      "cell_type": "code",
      "source": [
        "class Car(CarBase):\n",
        "    def __new__(cls, brand, photo_file_name, carrying, passenger_seats_count):\n",
        "      obj = object.__new__(cls)\n",
        "      return obj\n",
        "    def __init__(self, brand, photo_file_name, carrying, passenger_seats_count):\n",
        "      self.brand = brand\n",
        "      self.photo_file_name = photo_file_name\n",
        "      self.carrying = carrying\n",
        "      self.passenger_seats_count = passenger_seats_count\n",
        "      super().__init__(car_type = 'car', brand = self.brand, photo_file_name = self.photo_file_name, carrying = self.carrying)"
      ],
      "metadata": {
        "id": "7pc90V9bMv_L"
      },
      "execution_count": 19,
      "outputs": []
    },
    {
      "cell_type": "code",
      "source": [
        "#body_length, body_width, body_height\n",
        "\n",
        "class Truck(CarBase):\n",
        "    def __new__(cls, brand, photo_file_name, carrying, body_whl):\n",
        "      obj = object.__new__(cls)\n",
        "      return obj\n",
        "    def __init__(self, brand, photo_file_name, carrying, body_whl):\n",
        "      self.brand = brand\n",
        "      self.photo_file_name = photo_file_name\n",
        "      self.carrying = carrying\n",
        "      self.body_whl = body_whl\n",
        "      try:\n",
        "        self.body_length = float(self.body_whl.split('x')[0])\n",
        "        self.body_width = float(self.body_whl.split('x')[1])\n",
        "        self.body_height = float(self.body_whl.split('x')[2])\n",
        "      except:\n",
        "          self.body_length = 0\n",
        "          self.body_width = 0\n",
        "          self.body_height = 0\n",
        "      super().__init__(car_type = 'truck', brand = self.brand, photo_file_name = self.photo_file_name, carrying = self.carrying)\n",
        "\n",
        "    def get_body_volume (self):\n",
        "      volume = self.body_length * self.body_width * self.body_height\n",
        "      return volume       \n"
      ],
      "metadata": {
        "id": "H0az4AHGt_5l"
      },
      "execution_count": 20,
      "outputs": []
    },
    {
      "cell_type": "code",
      "source": [
        "class SpecMachine(CarBase):\n",
        "    def __new__(cls, brand, photo_file_name, carrying, extra):\n",
        "      obj = object.__new__(cls)\n",
        "      return obj\n",
        "    def __init__(self, brand, photo_file_name, carrying, extra):\n",
        "      self.brand = brand\n",
        "      self.photo_file_name = photo_file_name\n",
        "      self.carrying = carrying\n",
        "      self.extra = extra\n",
        "      super().__init__(car_type = 'spec_machine', brand = self.brand, photo_file_name = self.photo_file_name, carrying = self.carrying)"
      ],
      "metadata": {
        "id": "hbL74sW_NGPk"
      },
      "execution_count": 5,
      "outputs": []
    },
    {
      "cell_type": "code",
      "source": [
        "def get_car_list(csv_filename):    \n",
        "    car_list = []\n",
        "    \n",
        "    with open(csv_filename) as csv_fd:\n",
        "      reader = csv.reader(csv_fd, delimiter=';')\n",
        "      next(reader)\n",
        "      for row in reader:\n",
        "        try:\n",
        "          if row[0] != None:\n",
        "            if row[0] == 'truck':\n",
        "              if row[1:6:2] != None and row[3].endswith(photo_ext):\n",
        "                truck = Truck(row[1], row[3], row[5], row[4])\n",
        "                car_list.append(truck)\n",
        "            elif row[0] == 'car':\n",
        "              if row[1:4] != None and row[5] != None and row[3].endswith(photo_ext):\n",
        "                car = Car(row[1], row[3], row[5], row[2])\n",
        "                car_list.append(car)\n",
        "            elif row[0] == 'spec_machine':\n",
        "              if row[1:6:2] != None and row[6] != None and row[3].endswith(photo_ext):\n",
        "                spec_machine = SpecMachine(row[1], row[3], row[5], row[6])\n",
        "                car_list.append(spec_machine)        \n",
        "        except:\n",
        "          del row\n",
        "        \n",
        "    return car_list"
      ],
      "metadata": {
        "id": "ZiFselneuPr0"
      },
      "execution_count": 30,
      "outputs": []
    },
    {
      "cell_type": "code",
      "source": [
        "Базовые проверки"
      ],
      "metadata": {
        "id": "5GtkehuEuiQ1"
      },
      "execution_count": null,
      "outputs": []
    },
    {
      "cell_type": "code",
      "source": [
        "car = Car('Bugatti Veyron', 'bugatti.png', '0.312', '2')\n",
        "print(car.car_type, car.brand, car.photo_file_name, car.carrying, car.passenger_seats_count, sep='\\n')\n",
        "\n"
      ],
      "metadata": {
        "colab": {
          "base_uri": "https://localhost:8080/"
        },
        "id": "N8V8dQAUucIQ",
        "outputId": "520dbbf8-7ccf-4fff-dd17-e55e5e3c0a8a"
      },
      "execution_count": 23,
      "outputs": [
        {
          "output_type": "stream",
          "name": "stdout",
          "text": [
            "car\n",
            "Bugatti Veyron\n",
            "bugatti.png\n",
            "0.312\n",
            "2\n"
          ]
        }
      ]
    },
    {
      "cell_type": "code",
      "source": [
        "truck = Truck('Nissan', 'nissan.jpeg', '1.5', '3.92x2.09x1.87')\n",
        "print(truck.car_type, truck.brand, truck.photo_file_name, truck.body_length, truck.body_width, truck.body_height, sep='\\n')"
      ],
      "metadata": {
        "colab": {
          "base_uri": "https://localhost:8080/"
        },
        "id": "FbiWL5pCunni",
        "outputId": "18721ff8-2a3b-43f7-f7da-3bcd98a947bb"
      },
      "execution_count": 24,
      "outputs": [
        {
          "output_type": "stream",
          "name": "stdout",
          "text": [
            "truck\n",
            "Nissan\n",
            "nissan.jpeg\n",
            "3.92\n",
            "2.09\n",
            "1.87\n"
          ]
        }
      ]
    },
    {
      "cell_type": "code",
      "source": [
        "spec_machine = SpecMachine('Komatsu-D355', 'd355.jpg', '93', 'pipelayer specs')\n",
        "print(spec_machine.car_type, spec_machine.brand, spec_machine.carrying, spec_machine.photo_file_name, spec_machine.extra, sep='\\n')"
      ],
      "metadata": {
        "colab": {
          "base_uri": "https://localhost:8080/"
        },
        "id": "DL-BZmEzuqRT",
        "outputId": "4ba26a46-de98-4fc6-a3e4-1a063b458feb"
      },
      "execution_count": 25,
      "outputs": [
        {
          "output_type": "stream",
          "name": "stdout",
          "text": [
            "spec_machine\n",
            "Komatsu-D355\n",
            "93.0\n",
            "d355.jpg\n",
            "pipelayer specs\n"
          ]
        }
      ]
    },
    {
      "cell_type": "code",
      "source": [
        "spec_machine.get_photo_file_ext()\n",
        "# '.jpg'"
      ],
      "metadata": {
        "colab": {
          "base_uri": "https://localhost:8080/",
          "height": 36
        },
        "id": "qraKS6qwutI3",
        "outputId": "a2eabbb4-1a06-4a67-ed24-eeb3138d4071"
      },
      "execution_count": 26,
      "outputs": [
        {
          "output_type": "execute_result",
          "data": {
            "text/plain": [
              "'.jpg'"
            ],
            "application/vnd.google.colaboratory.intrinsic+json": {
              "type": "string"
            }
          },
          "metadata": {},
          "execution_count": 26
        }
      ]
    },
    {
      "cell_type": "code",
      "source": [
        "cars = get_car_list('coursera_week3_cars.csv')\n",
        "len(cars)"
      ],
      "metadata": {
        "colab": {
          "base_uri": "https://localhost:8080/"
        },
        "id": "aCTCM4Ybuvvb",
        "outputId": "96002535-b17a-48e6-b34d-acf17f6c7614"
      },
      "execution_count": 27,
      "outputs": [
        {
          "output_type": "execute_result",
          "data": {
            "text/plain": [
              "4"
            ]
          },
          "metadata": {},
          "execution_count": 27
        }
      ]
    },
    {
      "cell_type": "code",
      "source": [
        "cars[0].passenger_seats_count\n",
        "# 4"
      ],
      "metadata": {
        "colab": {
          "base_uri": "https://localhost:8080/",
          "height": 36
        },
        "id": "4g78taFFuxlL",
        "outputId": "972b8661-ffb2-41ab-add4-45d8c1a2b3a8"
      },
      "execution_count": 28,
      "outputs": [
        {
          "output_type": "execute_result",
          "data": {
            "text/plain": [
              "'4'"
            ],
            "application/vnd.google.colaboratory.intrinsic+json": {
              "type": "string"
            }
          },
          "metadata": {},
          "execution_count": 28
        }
      ]
    },
    {
      "cell_type": "code",
      "source": [
        "cars[1].get_body_volume()\n",
        "# 60.0"
      ],
      "metadata": {
        "colab": {
          "base_uri": "https://localhost:8080/"
        },
        "id": "LW7X6fXjuzu5",
        "outputId": "c28b121e-deef-4d03-f73f-17656928240f"
      },
      "execution_count": 29,
      "outputs": [
        {
          "output_type": "execute_result",
          "data": {
            "text/plain": [
              "60.0"
            ]
          },
          "metadata": {},
          "execution_count": 29
        }
      ]
    }
  ]
}