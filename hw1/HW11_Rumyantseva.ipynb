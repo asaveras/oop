{
  "nbformat": 4,
  "nbformat_minor": 0,
  "metadata": {
    "colab": {
      "name": "HW11 Rumyantseva.ipynb",
      "provenance": [],
      "collapsed_sections": []
    },
    "kernelspec": {
      "name": "python3",
      "display_name": "Python 3"
    }
  },
  "cells": [
    {
      "cell_type": "markdown",
      "metadata": {
        "id": "wn8ISNFzW_te"
      },
      "source": [
        "## HW1"
      ]
    },
    {
      "cell_type": "code",
      "source": [
        "import os\n",
        "import csv"
      ],
      "metadata": {
        "id": "AvVtV9XrLLFi"
      },
      "execution_count": 3,
      "outputs": []
    },
    {
      "cell_type": "code",
      "source": [
        "#car_type, значение типа объекта и может принимать одно из значений: «car», «truck», «spec_machine».\n",
        "#photo_file_name, имя файла с изображением машины, допустимы названия файлов изображений с расширением из списка: «.jpg», «.jpeg», «.png», «.gif»\n",
        "#brand, марка производителя машины\n",
        "#carrying, грузоподъемность\n",
        "\n",
        "class CarBase:\n",
        "    csv_car_type = 0\n",
        "    csv_brand = 1\n",
        "    csv_passenger_seats_count = 2\n",
        "    csv_photo_file_name = 3\n",
        "    csv_body_whl = 4\n",
        "    csv_carrying = 5\n",
        "    csv_extra = 6\n",
        "\n",
        "    def __init__(self, brand, photo_file_name, carrying):\n",
        "        self.brand = brand\n",
        "        self.photo_file_name = photo_file_name\n",
        "        self.carrying = float(carrying)\n",
        "        \n",
        "    def get_photo_file_ext(self):\n",
        "        return os.path.splitext(self.photo_file_name)[1]"
      ],
      "metadata": {
        "id": "UwaqyCaHLCOw"
      },
      "execution_count": 18,
      "outputs": []
    },
    {
      "cell_type": "code",
      "source": [
        "class Car(CarBase):\n",
        "  car_type = 'car'\n",
        "  def __init__(self, brand, photo_file_name, carrying, passenger_seats_count):\n",
        "    super().__init__(brand, photo_file_name, carrying)\n",
        "    self.passenger_seat_count = int(passenger_seats_count)"
      ],
      "metadata": {
        "id": "7pc90V9bMv_L"
      },
      "execution_count": 22,
      "outputs": []
    },
    {
      "cell_type": "code",
      "source": [
        "#body_length, body_width, body_height\n",
        "class Truck(CarBase):\n",
        "  car_type = 'truck'\n",
        "  def __init__(self, brand, photo_file_name, carrying , body_whl='0x0x0'):\n",
        "      super().__init__(brand, photo_file_name, carrying)\n",
        "      self._body_whl = body_whl.split('x')\n",
        "      self.body_length = float(self._body_whl[0])\n",
        "      self.body_width = float(self._body_whl[1])\n",
        "      self.body_height = float(self._body_whl[2])\n",
        "  def get_body_volume(self):\n",
        "      return self.body_height*self.body_length*self.body_width\n"
      ],
      "metadata": {
        "id": "elIIEqRRLWvB"
      },
      "execution_count": 23,
      "outputs": []
    },
    {
      "cell_type": "code",
      "source": [
        "class SpecMachine(CarBase):\n",
        "  car_type = 'spec_machine'\n",
        "  def __init__(self, brand, photo_file_name, carrying, extra):\n",
        "      super().__init__(brand, photo_file_name, carrying)\n",
        "      self.extra = extra"
      ],
      "metadata": {
        "id": "hbL74sW_NGPk"
      },
      "execution_count": 24,
      "outputs": []
    },
    {
      "cell_type": "code",
      "source": [
        "!wget https://gist.githubusercontent.com/NooblyRand0m/404c8a252f89862654c3fa6bba3d8bc3/raw/26c97aa3876ef33f3509e3b1209402c5c138f06c/coursera_week3_cars.csv"
      ],
      "metadata": {
        "colab": {
          "base_uri": "https://localhost:8080/"
        },
        "id": "ZOPEJTQJd3wc",
        "outputId": "7ff791b1-5b2e-4161-f877-992dd2d00eef"
      },
      "execution_count": 25,
      "outputs": [
        {
          "output_type": "stream",
          "name": "stdout",
          "text": [
            "--2022-06-14 14:02:42--  https://gist.githubusercontent.com/NooblyRand0m/404c8a252f89862654c3fa6bba3d8bc3/raw/26c97aa3876ef33f3509e3b1209402c5c138f06c/coursera_week3_cars.csv\n",
            "Resolving gist.githubusercontent.com (gist.githubusercontent.com)... 185.199.108.133, 185.199.109.133, 185.199.110.133, ...\n",
            "Connecting to gist.githubusercontent.com (gist.githubusercontent.com)|185.199.108.133|:443... connected.\n",
            "HTTP request sent, awaiting response... 200 OK\n",
            "Length: 287 [text/plain]\n",
            "Saving to: ‘coursera_week3_cars.csv.2’\n",
            "\n",
            "coursera_week3_cars 100%[===================>]     287  --.-KB/s    in 0s      \n",
            "\n",
            "2022-06-14 14:02:42 (12.6 MB/s) - ‘coursera_week3_cars.csv.2’ saved [287/287]\n",
            "\n"
          ]
        }
      ]
    },
    {
      "cell_type": "code",
      "source": [
        "!head coursera_week3_cars.csv"
      ],
      "metadata": {
        "colab": {
          "base_uri": "https://localhost:8080/"
        },
        "id": "qCaZvDIsd4jg",
        "outputId": "ccf4c83e-959f-4f81-8eff-320d952d8b6c"
      },
      "execution_count": 26,
      "outputs": [
        {
          "output_type": "stream",
          "name": "stdout",
          "text": [
            "car_type;brand;passenger_seats_count;photo_file_name;body_whl;carrying;extra\n",
            "car;Nissan xTtrail;4;f1.jpeg;;2.5;\n",
            "truck;Man;;f2.png;8x3x2.5;20;\n",
            "truck;Man;;f2.png;;20;\n",
            "car;Mazda 6;4;f3.jpeg;;2.5;\n",
            ";;;\n",
            "spec_machine;Hitachi;;f4;;1.2;Легкая техника для уборки снега\n",
            "\n"
          ]
        }
      ]
    },
    {
      "cell_type": "code",
      "source": [
        "csv_filename = 'coursera_week3_cars.csv'"
      ],
      "metadata": {
        "id": "kAPGxchKNIZ1"
      },
      "execution_count": 27,
      "outputs": []
    },
    {
      "cell_type": "code",
      "source": [
        "def get_car_list(csv_filename='coursera_week3_cars.csv'):\n",
        "    car_list = []\n",
        "    with open(csv_filename) as csv_fd:\n",
        "        reader = csv.reader(csv_fd, delimiter=';')\n",
        "        next(reader)  # пропускаем заголовок\n",
        "        for row in reader:\n",
        "            try:\n",
        "                if not row[4]:\n",
        "                    row[4] = '0x0x0'\n",
        "                if row[0] == 'car':\n",
        "                    car = Car(row[1], row[3], row[5], row[2])\n",
        "                    print(car)\n",
        "                elif row[0] == 'truck1':\n",
        "                    truck = Truck(row[1], row[3], row[5], row[4])\n",
        "                    print(truck.brand)\n",
        "                elif row[0] == 'spec_machine':\n",
        "                    spec_mashine = SpecMachine(row[1], row[3], row[5], row[6])\n",
        "                    print(spec_mashine)\n",
        "                else:\n",
        "                    print('ok')\n",
        "            except IndexError:\n",
        "                pass\n",
        "    return car_list"
      ],
      "metadata": {
        "id": "ZjPnYi-Udu_9"
      },
      "execution_count": 28,
      "outputs": []
    },
    {
      "cell_type": "code",
      "source": [
        "print(get_car_list())"
      ],
      "metadata": {
        "id": "1TlG3i8jNJ-j",
        "colab": {
          "base_uri": "https://localhost:8080/"
        },
        "outputId": "1691c032-6032-4097-947a-46344895ff52"
      },
      "execution_count": 29,
      "outputs": [
        {
          "output_type": "stream",
          "name": "stdout",
          "text": [
            "<__main__.Car object at 0x7fb7c46467d0>\n",
            "ok\n",
            "ok\n",
            "<__main__.Car object at 0x7fb7c4646190>\n",
            "<__main__.SpecMachine object at 0x7fb7c4646450>\n",
            "[]\n"
          ]
        }
      ]
    },
    {
      "cell_type": "code",
      "source": [
        ""
      ],
      "metadata": {
        "id": "BrNnfXfXQpbP"
      },
      "execution_count": null,
      "outputs": []
    }
  ]
}